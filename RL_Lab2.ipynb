{
  "nbformat": 4,
  "nbformat_minor": 0,
  "metadata": {
    "colab": {
      "name": "RL-Lab2.ipynb",
      "provenance": [],
      "collapsed_sections": [],
      "authorship_tag": "ABX9TyOO67mQHy+BwPlQn+/vmrct",
      "include_colab_link": true
    },
    "kernelspec": {
      "name": "python3",
      "display_name": "Python 3"
    },
    "language_info": {
      "name": "python"
    }
  },
  "cells": [
    {
      "cell_type": "markdown",
      "metadata": {
        "id": "view-in-github",
        "colab_type": "text"
      },
      "source": [
        "<a href=\"https://colab.research.google.com/github/ShubhamSingh120/RL-Repository/blob/main/RL_Lab2.ipynb\" target=\"_parent\"><img src=\"https://colab.research.google.com/assets/colab-badge.svg\" alt=\"Open In Colab\"/></a>"
      ]
    },
    {
      "cell_type": "code",
      "execution_count": 1,
      "metadata": {
        "id": "d5nGgJUgMo2V"
      },
      "outputs": [],
      "source": [
        "import numpy as np\n",
        "import pandas as pd\n",
        "import matplotlib.pyplot as plt"
      ]
    },
    {
      "cell_type": "code",
      "source": [
        "df = pd.read_csv(\"Ads_Optimisation.csv\")"
      ],
      "metadata": {
        "id": "OXMSUN0yM1mu"
      },
      "execution_count": 7,
      "outputs": []
    },
    {
      "cell_type": "code",
      "source": [
        "df"
      ],
      "metadata": {
        "id": "gt8ovHZjM9ME"
      },
      "execution_count": null,
      "outputs": []
    },
    {
      "cell_type": "code",
      "source": [
        "import random\n",
        "N = 10000\n",
        "d = 10\n",
        "ads_selected = []\n",
        "total_reward = 0\n",
        "for i in range(0,N):\n",
        "  ad = random.randrange(d)\n",
        "  ads_selected.append(ad)\n",
        "  reward = df.values[i, ad]\n",
        "  total_reward = total_reward + reward\n"
      ],
      "metadata": {
        "id": "N82ghKwfM-W0"
      },
      "execution_count": 9,
      "outputs": []
    },
    {
      "cell_type": "code",
      "source": [
        "pd.Series(ads_selected).head(1500).value_counts(normalize=True)"
      ],
      "metadata": {
        "colab": {
          "base_uri": "https://localhost:8080/"
        },
        "id": "0aZaAkhJNzXU",
        "outputId": "9de4fdca-1a8c-414f-b78f-20f4d4714b57"
      },
      "execution_count": 10,
      "outputs": [
        {
          "output_type": "execute_result",
          "data": {
            "text/plain": [
              "8    0.108000\n",
              "9    0.104667\n",
              "4    0.104667\n",
              "6    0.103333\n",
              "2    0.102667\n",
              "5    0.099333\n",
              "7    0.096000\n",
              "3    0.095333\n",
              "1    0.093333\n",
              "0    0.092667\n",
              "dtype: float64"
            ]
          },
          "metadata": {},
          "execution_count": 10
        }
      ]
    },
    {
      "cell_type": "code",
      "source": [
        "import math\n",
        "N = 10000\n",
        "d = 10\n",
        "ads_selected = []\n",
        "number_of_selections = [1]*d\n",
        "sum_of_reward = [0]*d\n",
        "total_reward = 0"
      ],
      "metadata": {
        "id": "pP6MUcW0ODWC"
      },
      "execution_count": 11,
      "outputs": []
    },
    {
      "cell_type": "code",
      "source": [
        "for n in range(0,N):\n",
        "  ad = 0\n",
        "  max_upper_bound = 0\n",
        "  for i in range(0,d):\n",
        "    if (number_of_selections[i] > 0):\n",
        "      average_reward = sum_of_reward[i] / number_of_selections[i]\n",
        "      delta_i = math.sqrt(2 * math.log(n+1) / number_of_selections[i])\n",
        "      upper_bound = average_reward + delta_i\n",
        "    else:\n",
        "      upper_bound = 1e400\n",
        "    if upper_bound > max_upper_bound:\n",
        "      max_upper_bound = upper_bound\n",
        "      ad = i\n",
        "  ads_selected.append(ad)\n",
        "  number_of_selections[ad] += 1\n",
        "  reward = df.values[n, ad]\n",
        "  sum_of_reward[ad] += reward\n",
        "  total_reward += reward"
      ],
      "metadata": {
        "id": "uWxJjlBvODIP"
      },
      "execution_count": 12,
      "outputs": []
    },
    {
      "cell_type": "code",
      "source": [
        "pd.Series(ads_selected).head(1500).value_counts(normalize=True)"
      ],
      "metadata": {
        "colab": {
          "base_uri": "https://localhost:8080/"
        },
        "id": "NpNpcm2xOC1o",
        "outputId": "eb4f23d7-3de0-483c-f6e2-2c52eb530234"
      },
      "execution_count": 13,
      "outputs": [
        {
          "output_type": "execute_result",
          "data": {
            "text/plain": [
              "4    0.274000\n",
              "7    0.127333\n",
              "0    0.123333\n",
              "3    0.085333\n",
              "1    0.078667\n",
              "8    0.078667\n",
              "6    0.069333\n",
              "2    0.064667\n",
              "9    0.054667\n",
              "5    0.044000\n",
              "dtype: float64"
            ]
          },
          "metadata": {},
          "execution_count": 13
        }
      ]
    },
    {
      "cell_type": "code",
      "source": [],
      "metadata": {
        "id": "q_0cfuT-akO-"
      },
      "execution_count": null,
      "outputs": []
    },
    {
      "cell_type": "code",
      "source": [],
      "metadata": {
        "id": "2N8E1LgjvpL7"
      },
      "execution_count": null,
      "outputs": []
    }
  ]
}