{
  "nbformat": 4,
  "nbformat_minor": 0,
  "metadata": {
    "colab": {
      "provenance": [],
      "authorship_tag": "ABX9TyMpu77kf6Wy6YZMZoxVJ6cj",
      "include_colab_link": true
    },
    "kernelspec": {
      "name": "python3",
      "display_name": "Python 3"
    },
    "language_info": {
      "name": "python"
    }
  },
  "cells": [
    {
      "cell_type": "markdown",
      "metadata": {
        "id": "view-in-github",
        "colab_type": "text"
      },
      "source": [
        "<a href=\"https://colab.research.google.com/github/ShubhamSingh120/RL-Repository/blob/main/Markov_Chains.ipynb\" target=\"_parent\"><img src=\"https://colab.research.google.com/assets/colab-badge.svg\" alt=\"Open In Colab\"/></a>"
      ]
    },
    {
      "cell_type": "code",
      "execution_count": 1,
      "metadata": {
        "id": "t35W7fPuGUcO"
      },
      "outputs": [],
      "source": [
        "import numpy as np\n",
        "import random as rm"
      ]
    },
    {
      "cell_type": "code",
      "source": [
        "# The statespace\n",
        "states = [\"Sleep\",\"Icecream\",\"Run\"]\n",
        "\n",
        "# Possible sequences of events\n",
        "transitionName = [[\"SS\",\"SR\",\"SI\"],[\"RS\",\"RR\",\"RI\"],[\"IS\",\"IR\",\"II\"]]\n",
        "\n",
        "# Probabilities matrix (transition matrix)\n",
        "transitionMatrix = [[0.2,0.6,0.2],[0.1,0.6,0.3],[0.2,0.7,0.1]]"
      ],
      "metadata": {
        "id": "cXj6wQ89GfHT"
      },
      "execution_count": 2,
      "outputs": []
    },
    {
      "cell_type": "code",
      "source": [
        "transitionMatrix"
      ],
      "metadata": {
        "colab": {
          "base_uri": "https://localhost:8080/"
        },
        "id": "4GtCenyVGlFI",
        "outputId": "7cf34e10-931f-4740-cb54-eaf460e178cf"
      },
      "execution_count": 3,
      "outputs": [
        {
          "output_type": "execute_result",
          "data": {
            "text/plain": [
              "[[0.2, 0.6, 0.2], [0.1, 0.6, 0.3], [0.2, 0.7, 0.1]]"
            ]
          },
          "metadata": {},
          "execution_count": 3
        }
      ]
    },
    {
      "cell_type": "code",
      "source": [
        "if sum(transitionMatrix[0])+sum(transitionMatrix[1])+sum(transitionMatrix[1]) != 3:\n",
        "  print(\"Somewhere, something went wrong. Transition matrix, perhaps?\")\n",
        "else:\n",
        "  print(\"All is gonna be okay, you should move on!!\")"
      ],
      "metadata": {
        "colab": {
          "base_uri": "https://localhost:8080/"
        },
        "id": "vg1ZJdZCGqEw",
        "outputId": "6d9eb8ce-eca4-4d90-e905-1c3b9d6f6095"
      },
      "execution_count": 9,
      "outputs": [
        {
          "output_type": "stream",
          "name": "stdout",
          "text": [
            "All is gonna be okay, you should move on!!\n"
          ]
        }
      ]
    },
    {
      "cell_type": "code",
      "source": [
        "# A function that implements the Markov model to forecast the state/mood.\n",
        "def activity_forecast(days):\n",
        "    # Choose the starting state\n",
        "    activityToday = \"Sleep\"\n",
        "    print(\"Start state: \" + activityToday)\n",
        "    # Shall store the sequence of states taken. So, this only has the starting state for now.\n",
        "    activityList = [activityToday]\n",
        "    i = 0\n",
        "    # To calculate the probability of the activityList\n",
        "    prob = 1\n",
        "    while i != days:\n",
        "      if activityToday == \"Sleep\":\n",
        "        change = np.random.choice(transitionName[0],replace=True,p=transitionMatrix[0])\n",
        "        if change == \"SS\":\n",
        "          prob = prob * 0.2\n",
        "          activityList.append(\"Sleep\")\n",
        "          pass\n",
        "        elif change == \"SR\":\n",
        "          prob = prob * 0.6\n",
        "          activityToday = \"Run\"\n",
        "          activityList.append(\"Run\")\n",
        "        else:\n",
        "          prob = prob * 0.2\n",
        "          activityToday = \"Icecream\"\n",
        "          activityList.append(\"Icecream\")\n",
        "          \n",
        "      elif activityToday == \"Run\":\n",
        "          change = np.random.choice(transitionName[1],replace=True,p=transitionMatrix[1])\n",
        "          if change == \"RR\":\n",
        "              prob = prob * 0.5\n",
        "              activityList.append(\"Run\")\n",
        "              pass\n",
        "          elif change == \"RS\":\n",
        "              prob = prob * 0.2\n",
        "              activityToday = \"Sleep\"\n",
        "              activityList.append(\"Sleep\")\n",
        "          else:\n",
        "              prob = prob * 0.3\n",
        "              activityToday = \"Icecream\"\n",
        "              activityList.append(\"Icecream\")\n",
        "      elif activityToday == \"Icecream\":\n",
        "          change = np.random.choice(transitionName[2],replace=True,p=transitionMatrix[2])\n",
        "          if change == \"II\":\n",
        "              prob = prob * 0.1\n",
        "              activityList.append(\"Icecream\")\n",
        "              pass\n",
        "          elif change == \"IS\":\n",
        "              prob = prob * 0.2\n",
        "              activityToday = \"Sleep\"\n",
        "              activityList.append(\"Sleep\")\n",
        "          else:\n",
        "              prob = prob * 0.7\n",
        "              activityToday = \"Run\"\n",
        "              activityList.append(\"Run\")\n",
        "      i += 1  \n",
        "    print(\"Possible states: \" + str(activityList))\n",
        "    print(\"End state after \"+ str(days) + \" days: \" + activityToday)\n",
        "    print(\"Probability of the possible sequence of states: \" + str(prob))\n",
        "\n",
        "# Function that forecasts the possible state for the next 2 days\n",
        "activity_forecast(2)"
      ],
      "metadata": {
        "colab": {
          "base_uri": "https://localhost:8080/"
        },
        "id": "h6s_rW9oG53N",
        "outputId": "9548c95c-bcc8-4a43-b210-c7e48e41a64e"
      },
      "execution_count": 5,
      "outputs": [
        {
          "output_type": "stream",
          "name": "stdout",
          "text": [
            "Start state: Sleep\n",
            "Possible states: ['Sleep', 'Icecream', 'Sleep']\n",
            "End state after 2 days: Sleep\n",
            "Probability of the possible sequence of states: 0.04000000000000001\n"
          ]
        }
      ]
    },
    {
      "cell_type": "code",
      "source": [
        "def activity_forecast(days):\n",
        "    # Choose the starting state\n",
        "    activityToday = \"Sleep\"\n",
        "    activityList = [activityToday]\n",
        "    i = 0\n",
        "    prob = 1\n",
        "    while i != days:\n",
        "        if activityToday == \"Sleep\":\n",
        "            change = np.random.choice(transitionName[0],replace=True,p=transitionMatrix[0])\n",
        "            if change == \"SS\":\n",
        "                prob = prob * 0.2\n",
        "                activityList.append(\"Sleep\")\n",
        "                pass\n",
        "            elif change == \"SR\":\n",
        "                prob = prob * 0.6\n",
        "                activityToday = \"Run\"\n",
        "                activityList.append(\"Run\")\n",
        "            else:\n",
        "                prob = prob * 0.2\n",
        "                activityToday = \"Icecream\"\n",
        "                activityList.append(\"Icecream\")\n",
        "        elif activityToday == \"Run\":\n",
        "            change = np.random.choice(transitionName[1],replace=True,p=transitionMatrix[1])\n",
        "            if change == \"RR\":\n",
        "                prob = prob * 0.5\n",
        "                activityList.append(\"Run\")\n",
        "                pass\n",
        "            elif change == \"RS\":\n",
        "                prob = prob * 0.2\n",
        "                activityToday = \"Sleep\"\n",
        "                activityList.append(\"Sleep\")\n",
        "            else:\n",
        "                prob = prob * 0.3\n",
        "                activityToday = \"Icecream\"\n",
        "                activityList.append(\"Icecream\")\n",
        "        elif activityToday == \"Icecream\":\n",
        "            change = np.random.choice(transitionName[2],replace=True,p=transitionMatrix[2])\n",
        "            if change == \"II\":\n",
        "                prob = prob * 0.1\n",
        "                activityList.append(\"Icecream\")\n",
        "                pass\n",
        "            elif change == \"IS\":\n",
        "                prob = prob * 0.2\n",
        "                activityToday = \"Sleep\"\n",
        "                activityList.append(\"Sleep\")\n",
        "            else:\n",
        "                prob = prob * 0.7\n",
        "                activityToday = \"Run\"\n",
        "                activityList.append(\"Run\")\n",
        "        i += 1    \n",
        "    return activityList\n",
        "\n",
        "# To save every activityList\n",
        "list_activity = []\n",
        "count = 0\n",
        "\n",
        "# `Range` starts from the first count up until but excluding the last count\n",
        "for iterations in range(1,10000):\n",
        "        list_activity.append(activity_forecast(2))\n",
        "\n",
        "# Check out all the `activityList` we collected    \n",
        "#print(list_activity)\n",
        "\n",
        "# Iterate through the list to get a count of all activities ending in state:'Run'\n",
        "for smaller_list in list_activity:\n",
        "    if(smaller_list[2] == \"Run\"):\n",
        "        count += 1\n",
        "\n",
        "# Calculate the probability of starting from state:'Sleep' and ending at state:'Run'\n",
        "percentage = (count/10000) * 100\n",
        "print(\"The probability of starting at state:'Sleep' and ending at state:'Run'= \" + str(percentage) + \"%\")"
      ],
      "metadata": {
        "colab": {
          "base_uri": "https://localhost:8080/"
        },
        "id": "YxHALjfIISgM",
        "outputId": "af57b9ef-9b8a-4544-8856-231dc7aa5d2a"
      },
      "execution_count": 8,
      "outputs": [
        {
          "output_type": "stream",
          "name": "stdout",
          "text": [
            "The probability of starting at state:'Sleep' and ending at state:'Run'= 62.51%\n"
          ]
        }
      ]
    },
    {
      "cell_type": "code",
      "source": [],
      "metadata": {
        "id": "rDEwx99LIfEo"
      },
      "execution_count": null,
      "outputs": []
    }
  ]
}